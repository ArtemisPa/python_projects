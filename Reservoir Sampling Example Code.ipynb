{
 "cells": [
  {
   "cell_type": "markdown",
   "id": "39e38e70",
   "metadata": {},
   "source": [
    "### Reservoir Sampling Example Code\n",
    "\n",
    "Suppose we observe an ordered data stream of the following numbers [34, 2, 6, 2, 3, 2, 5, 3, 5] Provide an output of reservoir sampling (reservoir size = 3 ) on this data stream.\n",
    "\n",
    "Output:"
   ]
  },
  {
   "cell_type": "code",
   "execution_count": 1,
   "id": "9c4182c9",
   "metadata": {},
   "outputs": [
    {
     "name": "stdout",
     "output_type": "stream",
     "text": [
      "The k randomly selected items are: \n",
      "5 2 2 \n"
     ]
    }
   ],
   "source": [
    "# Randomly select k items\n",
    "# from a stream of items\n",
    "import random\n",
    "# A utility function to print an array\n",
    "def printArray(stream,n):\n",
    "    for i in range(n):\n",
    "        print(stream[i],end=\" \");\n",
    "    print();\n",
    " \n",
    " # A function to randomly select k items from stream[0..n-1].\n",
    "def selectKItems(stream, n, k):\n",
    "        i=0;\n",
    "        # index for elements\n",
    "        # in stream[]\n",
    "         \n",
    "        # reservoir[] is the output array. \n",
    "        # Initialize it with the same first k elements from stream[]\n",
    "        reservoir = [0]*k;\n",
    "        for i in range(k):\n",
    "            reservoir[i] = stream[i];\n",
    "         \n",
    "        # Iterate from the (k+1)th element to nth element\n",
    "        while(i < n):\n",
    "            # Pick a random index\n",
    "            # from 0 to i.\n",
    "            j = random.randrange(i+1);\n",
    "             \n",
    "            # If the randomly picked index is smaller than k, then replace the element \n",
    "            # present at the index with new element from stream\n",
    "            if(j < k):\n",
    "                reservoir[j] = stream[i];\n",
    "            i+=1;\n",
    "         \n",
    "        print(\"The k randomly selected items are: \");\n",
    "        printArray(reservoir, k);\n",
    "     \n",
    "# Driver Code\n",
    "if __name__ == \"__main__\":\n",
    "    stream = [34,2,6,2,3,2,5,3,5];\n",
    "    n = len(stream);\n",
    "    k = 3;\n",
    "    selectKItems(stream, n, k);"
   ]
  },
  {
   "cell_type": "markdown",
   "id": "fd62283c",
   "metadata": {},
   "source": [
    "Example Output Table for Code Above:\n",
    "\n",
    "| Timestamp | Data Item | Reservoir |\n",
    "| :- | -: | :-: |\n",
    "| 1| 34 | 34 |\n",
    "| 2| 2 | 34,2 |\n",
    "| 3| 6 | 34,2,6|\n",
    "| 4 | 2 | 34,2,6|\n",
    "| 5 | 3 | 34,2,6|\n",
    "| 6 | 2 | 34,2,6|\n",
    "| 7 | 5 | 5,2,6 |\n",
    "| 8 | 3 | 5,2,6 |\n",
    "| 9 | 5 | 5,3,6 |\n",
    "    "
   ]
  }
 ],
 "metadata": {
  "kernelspec": {
   "display_name": "Python 3 (ipykernel)",
   "language": "python",
   "name": "python3"
  },
  "language_info": {
   "codemirror_mode": {
    "name": "ipython",
    "version": 3
   },
   "file_extension": ".py",
   "mimetype": "text/x-python",
   "name": "python",
   "nbconvert_exporter": "python",
   "pygments_lexer": "ipython3",
   "version": "3.9.12"
  }
 },
 "nbformat": 4,
 "nbformat_minor": 5
}
